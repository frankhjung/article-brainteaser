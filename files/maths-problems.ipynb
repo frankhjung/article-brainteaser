{
 "cells": [
  {
   "cell_type": "markdown",
   "metadata": {},
   "source": [
    "# Quantitative Thinking Problems\n",
    "\n",
    "By Stephen Weissenhofer\n",
    "\n",
    "## Problem 3\n",
    "\n",
    "In the center of Memorial Park is a fountain in the shape of a hexagon. Workers are\n",
    "ringing the fountain in hexagonal tiles. The first ring is made of black tiles; the next one\n",
    "grey tiles; the next black, and so on. How many hexagonal tiles will the workers use in\n",
    "the fourth ring? In all, the workers completed 15 rings. What colour were the tiles in\n",
    "the fifteenth ring? How many did they need for this ring?"
   ]
  },
  {
   "cell_type": "markdown",
   "metadata": {},
   "source": [
    "| ring   | hexagons colour |\n",
    "| -------|-----------------|\n",
    "| ring 1 |  6 black |\n",
    "| ring 2 | 12 grey |\n",
    "| ring 3 | 18 black |\n",
    "| ...    | .. ..... |\n",
    "| ring n | n * 6 if n is *odd* then *black* else *grey* |\n",
    "\n",
    "So for ring `15` there are `90` **black** heaxagons."
   ]
  },
  {
   "cell_type": "markdown",
   "metadata": {},
   "source": [
    "## Problem 6\n",
    "\n",
    "I have a book with 100 pages, numbered 1 to 100. If I look at all 100 pages, how many\n",
    "times will I see the number 1 printed?"
   ]
  },
  {
   "cell_type": "code",
   "execution_count": 23,
   "metadata": {},
   "outputs": [],
   "source": [
    "-- if character is a '1' return 1 otherwise 0\n",
    "ones :: Char -> Int\n",
    "ones c = if c == '1' then 1 else 0\n",
    "\n",
    "-- count ones in a string\n",
    "counter :: String -> Int\n",
    "counter ns = sum $ map ones ns\n",
    "\n",
    "-- solve for a given page number\n",
    "solve :: Int -> Int\n",
    "solve n = sum $ map (counter . show) [1..n]"
   ]
  },
  {
   "cell_type": "markdown",
   "metadata": {},
   "source": [
    "Number of 1's in a 100 page book:"
   ]
  },
  {
   "cell_type": "code",
   "execution_count": 24,
   "metadata": {},
   "outputs": [
    {
     "data": {
      "text/plain": [
       "21"
      ]
     },
     "metadata": {},
     "output_type": "display_data"
    }
   ],
   "source": [
    "solve 100"
   ]
  },
  {
   "cell_type": "markdown",
   "metadata": {},
   "source": [
    "## Problem 7\n",
    "\n",
    "I'm reading a much bigger book now, with 1150 pages. How many 1's occur in the pages\n",
    "1 to 1150?\n",
    "\n",
    "Number of 1's in a 1150 page book:"
   ]
  },
  {
   "cell_type": "code",
   "execution_count": 25,
   "metadata": {},
   "outputs": [
    {
     "data": {
      "text/plain": [
       "537"
      ]
     },
     "metadata": {},
     "output_type": "display_data"
    }
   ],
   "source": [
    "solve 1150"
   ]
  }
 ],
 "metadata": {
  "kernelspec": {
   "display_name": "Haskell",
   "language": "haskell",
   "name": "haskell"
  },
  "language_info": {
   "codemirror_mode": "ihaskell",
   "file_extension": ".hs",
   "mimetype": "text/x-haskell",
   "name": "haskell",
   "pygments_lexer": "Haskell",
   "version": "8.6.5"
  }
 },
 "nbformat": 4,
 "nbformat_minor": 4
}
